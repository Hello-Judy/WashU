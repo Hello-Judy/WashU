{
 "cells": [
  {
   "cell_type": "code",
   "execution_count": 1,
   "id": "cb9475d3-ee8d-4e43-9b1f-e02af458a2af",
   "metadata": {},
   "outputs": [
    {
     "ename": "ModuleNotFoundError",
     "evalue": "No module named 'pandas'",
     "output_type": "error",
     "traceback": [
      "\u001b[1;31m---------------------------------------------------------------------------\u001b[0m",
      "\u001b[1;31mModuleNotFoundError\u001b[0m                       Traceback (most recent call last)",
      "Cell \u001b[1;32mIn[1], line 4\u001b[0m\n\u001b[0;32m      1\u001b[0m \u001b[38;5;66;03m# Remember type conda activate test_env_gpu\u001b[39;00m\n\u001b[0;32m      2\u001b[0m \u001b[38;5;66;03m#Library Part\u001b[39;00m\n\u001b[0;32m      3\u001b[0m \u001b[38;5;28;01mimport\u001b[39;00m \u001b[38;5;21;01mcsv\u001b[39;00m\n\u001b[1;32m----> 4\u001b[0m \u001b[38;5;28;01mimport\u001b[39;00m \u001b[38;5;21;01mpandas\u001b[39;00m \u001b[38;5;28;01mas\u001b[39;00m \u001b[38;5;21;01mpd\u001b[39;00m\n\u001b[0;32m      5\u001b[0m \u001b[38;5;28;01mimport\u001b[39;00m \u001b[38;5;21;01mos\u001b[39;00m\n\u001b[0;32m      6\u001b[0m \u001b[38;5;28;01mimport\u001b[39;00m \u001b[38;5;21;01mnumpy\u001b[39;00m \u001b[38;5;28;01mas\u001b[39;00m \u001b[38;5;21;01mnp\u001b[39;00m\n",
      "\u001b[1;31mModuleNotFoundError\u001b[0m: No module named 'pandas'"
     ]
    }
   ],
   "source": [
    "# Remember type conda activate test_env_gpu\n",
    "#Library Part\n",
    "import csv\n",
    "import pandas as pd\n",
    "import os\n",
    "import numpy as np\n",
    "from sklearn.model_selection import train_test_split\n",
    "from sklearn.metrics import accuracy_score\n",
    "from sklearn.svm import SVC\n",
    "from sklearn.metrics import f1_score\n",
    "from sklearn.metrics import r2_score\n",
    "from sklearn.metrics import mean_squared_error \n",
    "from sklearn.metrics import mean_absolute_error \n",
    "from sklearn.model_selection import GridSearchCV\n",
    "\n"
   ]
  },
  {
   "cell_type": "code",
   "execution_count": 2,
   "id": "e82fdcd7-f5eb-49f3-b3cb-24fddf67472f",
   "metadata": {},
   "outputs": [
    {
     "name": "stdout",
     "output_type": "stream",
     "text": [
      "[name: \"/device:CPU:0\"\n",
      "device_type: \"CPU\"\n",
      "memory_limit: 268435456\n",
      "locality {\n",
      "}\n",
      "incarnation: 13755634992923181124\n",
      "xla_global_id: -1\n",
      "]\n",
      "TensorFlow version: 2.18.0\n",
      "GPU Available: []\n"
     ]
    }
   ],
   "source": [
    "from tensorflow.python.client import device_lib\n",
    "print(device_lib.list_local_devices())\n",
    "\n",
    "\n",
    "import tensorflow as tf\n",
    "print(\"TensorFlow version:\", tf.__version__)\n",
    "print(\"GPU Available:\", tf.config.list_physical_devices('GPU'))\n"
   ]
  },
  {
   "cell_type": "code",
   "execution_count": 2,
   "id": "a302c4b8-38c4-4b0d-bfe6-ee9cd6a706c3",
   "metadata": {},
   "outputs": [
    {
     "ename": "NameError",
     "evalue": "name 'os' is not defined",
     "output_type": "error",
     "traceback": [
      "\u001b[1;31m---------------------------------------------------------------------------\u001b[0m",
      "\u001b[1;31mNameError\u001b[0m                                 Traceback (most recent call last)",
      "Cell \u001b[1;32mIn[2], line 3\u001b[0m\n\u001b[0;32m      1\u001b[0m \u001b[38;5;66;03m# Get the path of the file\u001b[39;00m\n\u001b[0;32m      2\u001b[0m \u001b[38;5;66;03m# Current directiory for Jupyter\u001b[39;00m\n\u001b[1;32m----> 3\u001b[0m script_dir \u001b[38;5;241m=\u001b[39m \u001b[43mos\u001b[49m\u001b[38;5;241m.\u001b[39mgetcwd() \n\u001b[0;32m      5\u001b[0m \u001b[38;5;66;03m# Check the path whether correct \u001b[39;00m\n\u001b[0;32m      6\u001b[0m \u001b[38;5;28mprint\u001b[39m(script_dir)\n",
      "\u001b[1;31mNameError\u001b[0m: name 'os' is not defined"
     ]
    }
   ],
   "source": [
    "# Get the path of the file\n",
    "# Current directiory for Jupyter\n",
    "script_dir = os.getcwd() \n",
    "\n",
    "# Check the path whether correct \n",
    "print(script_dir)\n",
    "\n",
    "#Buld corresponding path\n",
    "file_path = os.path.join(script_dir, \"Data\")\n",
    "Original_File_path = os.path.join(file_path, \"Original_Data.csv\")\n",
    "Data_Without_Outlier_Path = os.path.join(file_path, \"Data_Without_Outlier.csv\")\n",
    "\n",
    "# Test whether path correct\n",
    "print(\"Original File Path:\", Original_File_path)\n",
    "print(\"Data Without Outlier Path:\", Data_Without_Outlier_Path)\n",
    "\n",
    "\n",
    "# Read the csv files\n",
    "Original_Data = pd.read_csv(Original_File_path,encoding='utf-8')\n",
    "Data_Without_Outlier = pd.read_csv(Data_Without_Outlier_Path,encoding='utf-8')\n",
    "\n",
    "# Check the csv file\n",
    "print(Original_Data.head())\n",
    "print(Data_Without_Outlier.head())"
   ]
  },
  {
   "cell_type": "code",
   "execution_count": 3,
   "id": "15a1a874-3401-43c2-bc32-b2ad665587a9",
   "metadata": {},
   "outputs": [
    {
     "ename": "NameError",
     "evalue": "name 'Original_Data' is not defined",
     "output_type": "error",
     "traceback": [
      "\u001b[1;31m---------------------------------------------------------------------------\u001b[0m",
      "\u001b[1;31mNameError\u001b[0m                                 Traceback (most recent call last)",
      "Cell \u001b[1;32mIn[3], line 2\u001b[0m\n\u001b[0;32m      1\u001b[0m \u001b[38;5;66;03m# Set the target and features vector for original data set\u001b[39;00m\n\u001b[1;32m----> 2\u001b[0m original_x \u001b[38;5;241m=\u001b[39m \u001b[43mOriginal_Data\u001b[49m\u001b[38;5;241m.\u001b[39mdrop([\u001b[38;5;124m'\u001b[39m\u001b[38;5;124mquality\u001b[39m\u001b[38;5;124m'\u001b[39m], axis \u001b[38;5;241m=\u001b[39m \u001b[38;5;241m1\u001b[39m)\n\u001b[0;32m      3\u001b[0m original_y \u001b[38;5;241m=\u001b[39m Original_Data[\u001b[38;5;124m'\u001b[39m\u001b[38;5;124mquality\u001b[39m\u001b[38;5;124m'\u001b[39m]\n\u001b[0;32m      5\u001b[0m \u001b[38;5;66;03m# Split data into seperating training and test set\u001b[39;00m\n",
      "\u001b[1;31mNameError\u001b[0m: name 'Original_Data' is not defined"
     ]
    }
   ],
   "source": [
    "# Set the target and features vector for original data set\n",
    "original_x = Original_Data.drop(['quality'], axis = 1)\n",
    "original_y = Original_Data['quality']\n",
    "\n",
    "# Split data into seperating training and test set\n",
    "Original_x_train, Original_x_test, Original_y_train, Original_y_test = train_test_split(original_x, original_y, test_size = 0.2, random_state = 0)\n",
    "\n",
    "# x_train shape and x_test shape\n",
    "Original_x_train.shape, Original_x_test.shape\n",
    "\n",
    "# Column names\n",
    "col_names = Original_x_train.columns\n",
    "\n",
    "\n",
    "\n",
    "# Try the best Hyperparameter\n",
    "# We set k-fold 5 times\n",
    "grid = GridSearchCV(\n",
    "    estimator = SVC(), \n",
    "    param_grid={\"C\":[0.1, 1, 10, 50, 100, 1000],\n",
    "                \"gamma\":['scale', 'auto', 0.1, 1], \n",
    "                \"kernel\":[\"Poly\", \"rbf\",\"sigmoid\",\"linear\"]}, \n",
    "                cv=5,\n",
    "                n_jobs = -1, scoring='accuracy') \n",
    "# Trainning Model\n",
    "grid.fit(Original_x_train, Original_y_train)\n",
    "\n",
    "# Print the best parameter and scores (Based on accuracy)\n",
    "print(\"Best Parameter: \", grid.best_params_)\n",
    "print(\"Highest Accuracy: \", grid.best_score_)"
   ]
  },
  {
   "cell_type": "code",
   "execution_count": null,
   "id": "6b7f1d00-fa60-49d4-9c79-06f951b9ada1",
   "metadata": {},
   "outputs": [],
   "source": []
  },
  {
   "cell_type": "code",
   "execution_count": null,
   "id": "4760c084-ab30-4849-9c5a-df770335135a",
   "metadata": {},
   "outputs": [],
   "source": []
  }
 ],
 "metadata": {
  "kernelspec": {
   "display_name": "Python 3 (ipykernel)",
   "language": "python",
   "name": "python3"
  },
  "language_info": {
   "codemirror_mode": {
    "name": "ipython",
    "version": 3
   },
   "file_extension": ".py",
   "mimetype": "text/x-python",
   "name": "python",
   "nbconvert_exporter": "python",
   "pygments_lexer": "ipython3",
   "version": "3.10.16"
  }
 },
 "nbformat": 4,
 "nbformat_minor": 5
}
