{
 "cells": [
  {
   "cell_type": "code",
   "execution_count": 47,
   "id": "cb9475d3-ee8d-4e43-9b1f-e02af458a2af",
   "metadata": {},
   "outputs": [],
   "source": [
    "# Library Part\n",
    "import csv\n",
    "import pandas as pd\n",
    "import os\n",
    "import numpy as np\n",
    "from sklearn.model_selection import train_test_split\n",
    "from sklearn.metrics import accuracy_score\n",
    "from sklearn.svm import SVC\n",
    "from sklearn.metrics import f1_score\n",
    "from sklearn.metrics import r2_score\n",
    "from sklearn.metrics import mean_squared_error \n",
    "from sklearn.metrics import mean_absolute_error \n",
    "from sklearn.model_selection import GridSearchCV\n",
    "\n"
   ]
  },
  {
   "cell_type": "code",
   "execution_count": 48,
   "id": "a302c4b8-38c4-4b0d-bfe6-ee9cd6a706c3",
   "metadata": {},
   "outputs": [
    {
     "name": "stdout",
     "output_type": "stream",
     "text": [
      "C:\\Users\\judyw\\Desktop\\ESE417_Final_Project\\WashU\\ESE_417\n",
      "Original File Path: C:\\Users\\judyw\\Desktop\\ESE417_Final_Project\\WashU\\ESE_417\\Data\\Original_Data.csv\n",
      "Data Without Outlier Path: C:\\Users\\judyw\\Desktop\\ESE417_Final_Project\\WashU\\ESE_417\\Data\\Data_Without_Outlier.csv\n",
      "   fixed acidity  volatile acidity  citric acid  residual sugar  chlorides  \\\n",
      "0            7.4              0.70         0.00             1.9      0.076   \n",
      "1            7.8              0.88         0.00             2.6      0.098   \n",
      "2            7.8              0.76         0.04             2.3      0.092   \n",
      "3           11.2              0.28         0.56             1.9      0.075   \n",
      "4            7.4              0.70         0.00             1.9      0.076   \n",
      "\n",
      "   free sulfur dioxide  total sulfur dioxide  density    pH  sulphates  \\\n",
      "0                 11.0                  34.0   0.9978  3.51       0.56   \n",
      "1                 25.0                  67.0   0.9968  3.20       0.68   \n",
      "2                 15.0                  54.0   0.9970  3.26       0.65   \n",
      "3                 17.0                  60.0   0.9980  3.16       0.58   \n",
      "4                 11.0                  34.0   0.9978  3.51       0.56   \n",
      "\n",
      "   alcohol  quality  \n",
      "0      9.4      5.0  \n",
      "1      9.8      5.0  \n",
      "2      9.8      5.0  \n",
      "3      9.8      6.0  \n",
      "4      9.4      5.0  \n",
      "   fixed acidity  volatile acidity  citric acid  residual sugar  chlorides  \\\n",
      "0            7.4              0.70         0.00             1.9      0.076   \n",
      "1            7.8              0.88         0.00             2.6      0.098   \n",
      "2            7.8              0.76         0.04             2.3      0.092   \n",
      "3           11.2              0.28         0.56             1.9      0.075   \n",
      "4            7.4              0.70         0.00             1.9      0.076   \n",
      "\n",
      "   free sulfur dioxide  total sulfur dioxide  density    pH  sulphates  \\\n",
      "0                 11.0                  34.0   0.9978  3.51       0.56   \n",
      "1                 25.0                  67.0   0.9968  3.20       0.68   \n",
      "2                 15.0                  54.0   0.9970  3.26       0.65   \n",
      "3                 17.0                  60.0   0.9980  3.16       0.58   \n",
      "4                 11.0                  34.0   0.9978  3.51       0.56   \n",
      "\n",
      "   alcohol  quality  \n",
      "0      9.4        5  \n",
      "1      9.8        5  \n",
      "2      9.8        5  \n",
      "3      9.8        6  \n",
      "4      9.4        5  \n"
     ]
    }
   ],
   "source": [
    "# Get the path of the file\n",
    "# Current directiory for Jupyter\n",
    "script_dir = os.getcwd() \n",
    "\n",
    "# Check the path whether correct \n",
    "print(script_dir)\n",
    "\n",
    "#Buld corresponding path\n",
    "file_path = os.path.join(script_dir, \"Data\")\n",
    "Original_File_path = os.path.join(file_path, \"Original_Data.csv\")\n",
    "Data_Without_Outlier_Path = os.path.join(file_path, \"Data_Without_Outlier.csv\")\n",
    "\n",
    "# Test whether path correct\n",
    "print(\"Original File Path:\", Original_File_path)\n",
    "print(\"Data Without Outlier Path:\", Data_Without_Outlier_Path)\n",
    "\n",
    "\n",
    "# Read the csv files\n",
    "Original_Data = pd.read_csv(Original_File_path,encoding='utf-8')\n",
    "Data_Without_Outlier = pd.read_csv(Data_Without_Outlier_Path,encoding='utf-8')\n",
    "\n",
    "# Check the csv file\n",
    "print(Original_Data.head())\n",
    "print(Data_Without_Outlier.head())"
   ]
  },
  {
   "cell_type": "code",
   "execution_count": 49,
   "id": "15a1a874-3401-43c2-bc32-b2ad665587a9",
   "metadata": {},
   "outputs": [],
   "source": [
    "# Set the target and features vector for original data set\n",
    "original_x = Original_Data.drop(['quality'], axis = 1)\n",
    "original_y = Original_Data['quality']\n",
    "\n",
    "# Split data into seperating training and test set\n",
    "Original_x_train, Original_x_test, Original_y_train, Original_y_test = train_test_split(original_x, original_y, test_size = 0.2, random_state = 0)\n",
    "\n",
    "# x_train shape and x_test shape\n",
    "Original_x_train.shape, Original_x_test.shape\n",
    "\n",
    "# Column names\n",
    "col_names = Original_x_train.columns\n"
   ]
  },
  {
   "cell_type": "code",
   "execution_count": null,
   "id": "f4aa2202-5cb1-489f-b17c-c6583c1161d0",
   "metadata": {},
   "outputs": [],
   "source": []
  },
  {
   "cell_type": "code",
   "execution_count": null,
   "id": "6b7f1d00-fa60-49d4-9c79-06f951b9ada1",
   "metadata": {},
   "outputs": [],
   "source": []
  }
 ],
 "metadata": {
  "kernelspec": {
   "display_name": "Python 3 (ipykernel)",
   "language": "python",
   "name": "python3"
  },
  "language_info": {
   "codemirror_mode": {
    "name": "ipython",
    "version": 3
   },
   "file_extension": ".py",
   "mimetype": "text/x-python",
   "name": "python",
   "nbconvert_exporter": "python",
   "pygments_lexer": "ipython3",
   "version": "3.11.7"
  }
 },
 "nbformat": 4,
 "nbformat_minor": 5
}
