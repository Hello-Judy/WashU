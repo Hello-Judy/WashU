{
 "cells": [
  {
   "cell_type": "code",
   "execution_count": 21,
   "id": "2e7146a4-979c-4d2c-b685-b0914f8054de",
   "metadata": {},
   "outputs": [],
   "source": [
    "# Import the required library\n",
    "import pandas as pd"
   ]
  },
  {
   "cell_type": "code",
   "execution_count": 22,
   "id": "4a0be459-c56a-4841-a842-f7660d717ab0",
   "metadata": {},
   "outputs": [],
   "source": [
    "\"\"\" Create an method to read the csv file with the seperation process\n",
    "    fp : File path\n",
    "\"\"\"\n",
    "def read_dataFile(fp):\n",
    "    # Read the file \n",
    "    file = open(fp,\"r\", encoding =\"utf-8\" )\n",
    "    # Get read each of line in the csv file\n",
    "    lines = file.readlines()\n",
    "    # Get the first line to seperate each name in columns \n",
    "    first_line = lines.pop(0)\n",
    "    # Clean the empty space by strip(); And replace the \"\" on column names and seperate names by \";\"\n",
    "    col_names = first_line.strip().replace('\"', '').split(';')\n",
    "    # Deal with the left lines\n",
    "    data = []\n",
    "    # Iterate each line to process the data which is only seperate by the \";\"\n",
    "    for line in lines:\n",
    "        tmp_l = line.strip().split(';') # tmp_l is temperal line\n",
    "        data.append(tmp_l)\n",
    "    # Form a data frame for future processing\n",
    "    df = pd.DataFrame(data, columns=col_names)\n",
    "    # Check the dataframe (first five lines)\n",
    "    print(df.head())\n",
    "    return df\n",
    "# "
   ]
  },
  {
   "cell_type": "code",
   "execution_count": 23,
   "id": "732c124e-6167-49fa-94bb-4d9de402ace3",
   "metadata": {},
   "outputs": [
    {
     "name": "stdout",
     "output_type": "stream",
     "text": [
      "  fixed acidity volatile acidity citric acid residual sugar chlorides  \\\n",
      "0           7.4              0.7           0            1.9     0.076   \n",
      "1           7.8             0.88           0            2.6     0.098   \n",
      "2           7.8             0.76        0.04            2.3     0.092   \n",
      "3          11.2             0.28        0.56            1.9     0.075   \n",
      "4           7.4              0.7           0            1.9     0.076   \n",
      "\n",
      "  free sulfur dioxide total sulfur dioxide density    pH sulphates alcohol  \\\n",
      "0                  11                   34  0.9978  3.51      0.56     9.4   \n",
      "1                  25                   67  0.9968   3.2      0.68     9.8   \n",
      "2                  15                   54   0.997  3.26      0.65     9.8   \n",
      "3                  17                   60   0.998  3.16      0.58     9.8   \n",
      "4                  11                   34  0.9978  3.51      0.56     9.4   \n",
      "\n",
      "  quality  \n",
      "0       5  \n",
      "1       5  \n",
      "2       5  \n",
      "3       6  \n",
      "4       5  \n"
     ]
    }
   ],
   "source": [
    "# method to deal with current data frame\n",
    "wine_data = read_dataFile(\"winequality-red-4.csv\")"
   ]
  },
  {
   "cell_type": "code",
   "execution_count": 32,
   "id": "905bdffe-a246-483c-9fdc-0e7aa934f637",
   "metadata": {},
   "outputs": [],
   "source": [
    "\"\"\"\n",
    "Check whether this data frame missing some values in some columns\n",
    "\"\"\"\n",
    "def check_missing_value(df):\n",
    "    # Display the info of this dataframe\n",
    "    # In this displacement, there is no missing value because of the 1599 entries\n",
    "    # However, the Dtype displacement shows objects that means there may exist some error for data type\n",
    "    df.info()\n",
    "    # We plan to convert the all of data into numeric type\n",
    "    for r in df.columns:\n",
    "        df[r] = pd.to_numeric(df[r], errors='coerce')\n",
    "    # After the transformation, the result we get\n",
    "    \n",
    "    print(df.info())\n",
    "    print('\\nNumber of Missing Values: ')\n",
    "    print(df.isnull().sum())\n",
    "\n"
   ]
  },
  {
   "cell_type": "code",
   "execution_count": 33,
   "id": "c0ccfad9-bdf0-4b22-996b-30d86fc183d7",
   "metadata": {},
   "outputs": [
    {
     "name": "stdout",
     "output_type": "stream",
     "text": [
      "<class 'pandas.core.frame.DataFrame'>\n",
      "RangeIndex: 1599 entries, 0 to 1598\n",
      "Data columns (total 12 columns):\n",
      " #   Column                Non-Null Count  Dtype  \n",
      "---  ------                --------------  -----  \n",
      " 0   fixed acidity         1599 non-null   float64\n",
      " 1   volatile acidity      1599 non-null   float64\n",
      " 2   citric acid           1599 non-null   float64\n",
      " 3   residual sugar        1599 non-null   float64\n",
      " 4   chlorides             1599 non-null   float64\n",
      " 5   free sulfur dioxide   1599 non-null   float64\n",
      " 6   total sulfur dioxide  1599 non-null   float64\n",
      " 7   density               1599 non-null   float64\n",
      " 8   pH                    1599 non-null   float64\n",
      " 9   sulphates             1599 non-null   float64\n",
      " 10  alcohol               1599 non-null   float64\n",
      " 11  quality               1599 non-null   int64  \n",
      "dtypes: float64(11), int64(1)\n",
      "memory usage: 150.0 KB\n",
      "<class 'pandas.core.frame.DataFrame'>\n",
      "RangeIndex: 1599 entries, 0 to 1598\n",
      "Data columns (total 12 columns):\n",
      " #   Column                Non-Null Count  Dtype  \n",
      "---  ------                --------------  -----  \n",
      " 0   fixed acidity         1599 non-null   float64\n",
      " 1   volatile acidity      1599 non-null   float64\n",
      " 2   citric acid           1599 non-null   float64\n",
      " 3   residual sugar        1599 non-null   float64\n",
      " 4   chlorides             1599 non-null   float64\n",
      " 5   free sulfur dioxide   1599 non-null   float64\n",
      " 6   total sulfur dioxide  1599 non-null   float64\n",
      " 7   density               1599 non-null   float64\n",
      " 8   pH                    1599 non-null   float64\n",
      " 9   sulphates             1599 non-null   float64\n",
      " 10  alcohol               1599 non-null   float64\n",
      " 11  quality               1599 non-null   int64  \n",
      "dtypes: float64(11), int64(1)\n",
      "memory usage: 150.0 KB\n",
      "None\n",
      "\n",
      "Number of Missing Values: \n",
      "fixed acidity           0\n",
      "volatile acidity        0\n",
      "citric acid             0\n",
      "residual sugar          0\n",
      "chlorides               0\n",
      "free sulfur dioxide     0\n",
      "total sulfur dioxide    0\n",
      "density                 0\n",
      "pH                      0\n",
      "sulphates               0\n",
      "alcohol                 0\n",
      "quality                 0\n",
      "dtype: int64\n"
     ]
    }
   ],
   "source": [
    "# Apply the missing value method\n",
    "check_missing_value(wine_data)"
   ]
  },
  {
   "cell_type": "code",
   "execution_count": null,
   "id": "f6b064b7-0354-4c83-8150-b4313a7ff9d6",
   "metadata": {},
   "outputs": [],
   "source": []
  },
  {
   "cell_type": "code",
   "execution_count": null,
   "id": "9ce2e1b5-2736-495e-b9d2-eef042a6691a",
   "metadata": {},
   "outputs": [],
   "source": []
  }
 ],
 "metadata": {
  "kernelspec": {
   "display_name": "Python 3 (ipykernel)",
   "language": "python",
   "name": "python3"
  },
  "language_info": {
   "codemirror_mode": {
    "name": "ipython",
    "version": 3
   },
   "file_extension": ".py",
   "mimetype": "text/x-python",
   "name": "python",
   "nbconvert_exporter": "python",
   "pygments_lexer": "ipython3",
   "version": "3.11.7"
  }
 },
 "nbformat": 4,
 "nbformat_minor": 5
}
